{
 "cells": [
  {
   "cell_type": "code",
   "execution_count": 2,
   "metadata": {
    "collapsed": true
   },
   "outputs": [],
   "source": [
    "import pandas as pd\n",
    "import numpy as np\n",
    "import numbers, sklearn, sknn\n",
    "from sklearn.ensemble import AdaBoostClassifier, RandomForestClassifier, BaggingClassifier\n",
    "from sklearn.tree import DecisionTreeClassifier\n",
    "from sklearn.preprocessing import StandardScaler\n",
    "from sklearn import svm, decomposition, preprocessing\n",
    "from sklearn.naive_bayes import MultinomialNB\n",
    "from sklearn.linear_model import LogisticRegression\n",
    "from sklearn.metrics import roc_curve, auc\n",
    "from sknn.mlp import Classifier, Layer"
   ]
  },
  {
   "cell_type": "code",
   "execution_count": 3,
   "metadata": {
    "collapsed": false
   },
   "outputs": [
    {
     "name": "stdout",
     "output_type": "stream",
     "text": [
      "0.17\n"
     ]
    }
   ],
   "source": [
    "TRAIN, TEST = 0, 1\n",
    "\n",
    "print(sklearn.__version__)\n",
    "print(sknn.__version__)"
   ]
  },
  {
   "cell_type": "code",
   "execution_count": 4,
   "metadata": {
    "collapsed": false
   },
   "outputs": [
    {
     "name": "stdout",
     "output_type": "stream",
     "text": [
      "Reading CSV Files...\n"
     ]
    }
   ],
   "source": [
    "print('Reading CSV Files...')\n",
    "train = pd.read_csv('train_users_2.csv', header=0)\n",
    "test = pd.read_csv('test_users.csv')\n",
    "filled = [train.copy(), test.copy()]"
   ]
  },
  {
   "cell_type": "code",
   "execution_count": null,
   "metadata": {
    "collapsed": true
   },
   "outputs": [],
   "source": [
    "print('Cleaning Data: Converting all entries to numerical type, filling NaNs, etc...')\n",
    "le = preprocessing.LabelEncoder()\n",
    "for i, df in enumerate(filled):\n",
    "    for feature in [col for col in df.columns if col not in ['id', 'country_destination']]: #Excluding id\n",
    "        if df[feature].dtype not in [int, float]:\n",
    "            if 'date' in feature:\n",
    "                df[feature] = pd.to_datetime(df[feature])\n",
    "                df[feature] = (df[feature] - df[feature].min()) / np.timedelta64(1,'D')\n",
    "            else:\n",
    "                #mapping = {value: i for i, value in enumerate([_ for _ in df[feature].unique() if _ is not np.nan])}\n",
    "                #mapping_full = lambda x: mapping[x] if x not in ['-unknown-', np.nan] else np.nan\n",
    "                #df[feature] = df[feature].map(mapping_full)\n",
    "                print(df[feature])\n",
    "                df[feature] = le.fit_transform(df[feature])\n",
    "    df = df.fillna(-1)"
   ]
  },
  {
   "cell_type": "code",
   "execution_count": null,
   "metadata": {
    "collapsed": true
   },
   "outputs": [],
   "source": [
    "print('Dropping columns of data entirely missing on at least one set...')\n",
    "for col in filled[TEST].columns:\n",
    "    if any(df[col].isnull().all() for df in filled):\n",
    "        for i, df in enumerate(filled):\n",
    "            filled[i] = filled[i].drop(col, axis=1)"
   ]
  },
  {
   "cell_type": "code",
   "execution_count": null,
   "metadata": {
    "collapsed": true
   },
   "outputs": [],
   "source": [
    "print('Isolating train/test sets...')\n",
    "X_train, y_train = filled[TRAIN].ix[:, 1:-1], filled[TRAIN].ix[:, -1]\n",
    "X_test = filled[TEST].ix[:, 1:]"
   ]
  },
  {
   "cell_type": "code",
   "execution_count": null,
   "metadata": {
    "collapsed": true
   },
   "outputs": [],
   "source": [
    "model = LogisticRegression()\n",
    "model.fit(X_train, y_train)"
   ]
  },
  {
   "cell_type": "markdown",
   "metadata": {},
   "source": [
    "print('Analyzing Logistic Regression...')\n",
    "Disbursed_lg = model.predict_proba(X_test)\n",
    "fpr, tpr, _ = roc_curve(model.predict(X_test), Disbursed_lg[:,1])\n",
    "roc_auc = auc(fpr, tpr)\n",
    "print(roc_auc)"
   ]
  },
  {
   "cell_type": "code",
   "execution_count": null,
   "metadata": {
    "collapsed": true
   },
   "outputs": [],
   "source": [
    "print('Making prediction...')\n",
    "y_test = pd.DataFrame(model.predict(X_test))\n",
    "to_output = pd.concat([filled[TEST]['id'], y_test], axis=1)"
   ]
  },
  {
   "cell_type": "code",
   "execution_count": null,
   "metadata": {
    "collapsed": true
   },
   "outputs": [],
   "source": [
    "print('Writing prediction to submission file...')\n",
    "to_output.to_csv('submission.csv', index=False, header=['id', 'country'])"
   ]
  }
 ],
 "metadata": {
  "kernelspec": {
   "display_name": "Python 3",
   "language": "python",
   "name": "python3"
  },
  "language_info": {
   "codemirror_mode": {
    "name": "ipython",
    "version": 3
   },
   "file_extension": ".py",
   "mimetype": "text/x-python",
   "name": "python",
   "nbconvert_exporter": "python",
   "pygments_lexer": "ipython3",
   "version": "3.5.1"
  }
 },
 "nbformat": 4,
 "nbformat_minor": 0
}
